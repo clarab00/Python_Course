{
 "cells": [
  {
   "cell_type": "markdown",
   "id": "930ea09f-d906-4670-82c2-47923e38798a",
   "metadata": {},
   "source": [
    "lesson 17.11.23\n",
    "hw: create API key for ChatGPT!"
   ]
  },
  {
   "cell_type": "markdown",
   "id": "a477efa7-2699-42f1-96db-25531997e75d",
   "metadata": {},
   "source": [
    "dataset exploration: \n",
    "\n",
    "    "
   ]
  },
  {
   "cell_type": "code",
   "execution_count": 36,
   "id": "e2cb5d5d-c353-4311-b34b-d12ace8b788c",
   "metadata": {
    "tags": []
   },
   "outputs": [
    {
     "name": "stdout",
     "output_type": "stream",
     "text": [
      "Collecting folium\n",
      "  Obtaining dependency information for folium from https://files.pythonhosted.org/packages/a2/1a/37c7ee1bc806d6c32621fecc72c19f6a9f9b4369e5e8f406a7c16d49f031/folium-0.15.0-py2.py3-none-any.whl.metadata\n",
      "  Downloading folium-0.15.0-py2.py3-none-any.whl.metadata (3.4 kB)\n",
      "Collecting branca>=0.6.0 (from folium)\n",
      "  Obtaining dependency information for branca>=0.6.0 from https://files.pythonhosted.org/packages/2f/e7/603b136221de923055716d23e3047da71f92e0d8ba2c4517ce49a54fe768/branca-0.7.0-py3-none-any.whl.metadata\n",
      "  Downloading branca-0.7.0-py3-none-any.whl.metadata (1.5 kB)\n",
      "Requirement already satisfied: jinja2>=2.9 in /Users/Clara/anaconda3/lib/python3.11/site-packages (from folium) (3.1.2)\n",
      "Requirement already satisfied: numpy in /Users/Clara/anaconda3/lib/python3.11/site-packages (from folium) (1.24.3)\n",
      "Requirement already satisfied: requests in /Users/Clara/anaconda3/lib/python3.11/site-packages (from folium) (2.31.0)\n",
      "Requirement already satisfied: MarkupSafe>=2.0 in /Users/Clara/anaconda3/lib/python3.11/site-packages (from jinja2>=2.9->folium) (2.1.1)\n",
      "Requirement already satisfied: charset-normalizer<4,>=2 in /Users/Clara/anaconda3/lib/python3.11/site-packages (from requests->folium) (2.0.4)\n",
      "Requirement already satisfied: idna<4,>=2.5 in /Users/Clara/anaconda3/lib/python3.11/site-packages (from requests->folium) (3.4)\n",
      "Requirement already satisfied: urllib3<3,>=1.21.1 in /Users/Clara/anaconda3/lib/python3.11/site-packages (from requests->folium) (1.26.16)\n",
      "Requirement already satisfied: certifi>=2017.4.17 in /Users/Clara/anaconda3/lib/python3.11/site-packages (from requests->folium) (2023.7.22)\n",
      "Downloading folium-0.15.0-py2.py3-none-any.whl (100 kB)\n",
      "\u001b[2K   \u001b[90m━━━━━━━━━━━━━━━━━━━━━━━━━━━━━━━━━━━━━━━━\u001b[0m \u001b[32m100.3/100.3 kB\u001b[0m \u001b[31m2.0 MB/s\u001b[0m eta \u001b[36m0:00:00\u001b[0m \u001b[36m0:00:01\u001b[0m\n",
      "\u001b[?25hDownloading branca-0.7.0-py3-none-any.whl (25 kB)\n",
      "Installing collected packages: branca, folium\n",
      "Successfully installed branca-0.7.0 folium-0.15.0\n"
     ]
    }
   ],
   "source": [
    "!pip install folium"
   ]
  },
  {
   "cell_type": "code",
   "execution_count": 37,
   "id": "edf05688-19d5-49f7-bcd9-742c47df9717",
   "metadata": {
    "tags": []
   },
   "outputs": [],
   "source": [
    "import pandas as pd\n",
    "import matplotlib.pyplot as plt\n",
    "import seaborn as snsd\n",
    "import numpy as np\n",
    "import geopandas as gpd\n",
    "import os\n",
    "import folium"
   ]
  },
  {
   "cell_type": "code",
   "execution_count": 6,
   "id": "06d79096-d336-4812-a62d-6a686ad13ce2",
   "metadata": {
    "tags": []
   },
   "outputs": [
    {
     "name": "stdout",
     "output_type": "stream",
     "text": [
      "Requirement already satisfied: geopandas in /Users/Clara/anaconda3/lib/python3.11/site-packages (0.14.1)\n",
      "Requirement already satisfied: fiona>=1.8.21 in /Users/Clara/anaconda3/lib/python3.11/site-packages (from geopandas) (1.9.5)\n",
      "Requirement already satisfied: packaging in /Users/Clara/anaconda3/lib/python3.11/site-packages (from geopandas) (23.1)\n",
      "Requirement already satisfied: pandas>=1.4.0 in /Users/Clara/anaconda3/lib/python3.11/site-packages (from geopandas) (2.0.3)\n",
      "Requirement already satisfied: pyproj>=3.3.0 in /Users/Clara/anaconda3/lib/python3.11/site-packages (from geopandas) (3.6.1)\n",
      "Requirement already satisfied: shapely>=1.8.0 in /Users/Clara/anaconda3/lib/python3.11/site-packages (from geopandas) (2.0.2)\n",
      "Requirement already satisfied: attrs>=19.2.0 in /Users/Clara/anaconda3/lib/python3.11/site-packages (from fiona>=1.8.21->geopandas) (22.1.0)\n",
      "Requirement already satisfied: certifi in /Users/Clara/anaconda3/lib/python3.11/site-packages (from fiona>=1.8.21->geopandas) (2023.7.22)\n",
      "Requirement already satisfied: click~=8.0 in /Users/Clara/anaconda3/lib/python3.11/site-packages (from fiona>=1.8.21->geopandas) (8.0.4)\n",
      "Requirement already satisfied: click-plugins>=1.0 in /Users/Clara/anaconda3/lib/python3.11/site-packages (from fiona>=1.8.21->geopandas) (1.1.1)\n",
      "Requirement already satisfied: cligj>=0.5 in /Users/Clara/anaconda3/lib/python3.11/site-packages (from fiona>=1.8.21->geopandas) (0.7.2)\n",
      "Requirement already satisfied: six in /Users/Clara/anaconda3/lib/python3.11/site-packages (from fiona>=1.8.21->geopandas) (1.16.0)\n",
      "Requirement already satisfied: setuptools in /Users/Clara/anaconda3/lib/python3.11/site-packages (from fiona>=1.8.21->geopandas) (68.0.0)\n",
      "Requirement already satisfied: python-dateutil>=2.8.2 in /Users/Clara/anaconda3/lib/python3.11/site-packages (from pandas>=1.4.0->geopandas) (2.8.2)\n",
      "Requirement already satisfied: pytz>=2020.1 in /Users/Clara/anaconda3/lib/python3.11/site-packages (from pandas>=1.4.0->geopandas) (2023.3.post1)\n",
      "Requirement already satisfied: tzdata>=2022.1 in /Users/Clara/anaconda3/lib/python3.11/site-packages (from pandas>=1.4.0->geopandas) (2023.3)\n",
      "Requirement already satisfied: numpy>=1.21.0 in /Users/Clara/anaconda3/lib/python3.11/site-packages (from pandas>=1.4.0->geopandas) (1.24.3)\n"
     ]
    }
   ],
   "source": [
    "!pip install geopandas"
   ]
  },
  {
   "cell_type": "code",
   "execution_count": null,
   "id": "b9771a70-1f6d-4899-b5e7-974640c1e61b",
   "metadata": {},
   "outputs": [],
   "source": []
  },
  {
   "cell_type": "code",
   "execution_count": 16,
   "id": "1e84d61d-feb8-4dfd-9cf7-fb6a7ecb1796",
   "metadata": {
    "tags": []
   },
   "outputs": [],
   "source": [
    "nyc_taxis = pd.read_csv('../../Data/csv/nyc_taxis.csv')"
   ]
  },
  {
   "cell_type": "markdown",
   "id": "f3e80873-e5b4-4de9-8d9f-5087d9690194",
   "metadata": {},
   "source": [
    "copy table - ask prof how"
   ]
  },
  {
   "cell_type": "code",
   "execution_count": 17,
   "id": "14d1b98a-6941-4e27-854a-5eaa86519ca3",
   "metadata": {},
   "outputs": [
    {
     "data": {
      "text/plain": [
       "['13_Scraping.ipynb',\n",
       " '02_EDA_Pandas_2.ipynb',\n",
       " 'data_exploration.ipynb',\n",
       " '12_NLP_Transformers.ipynb',\n",
       " '09_NLP_TopicModeling_Clustering.ipynb',\n",
       " '01_EDA_Pandas_1.ipynb',\n",
       " '07_NLP_Word_Embeddings.ipynb',\n",
       " '14_Spatial_Analysis.ipynb',\n",
       " '05_NLP_Textual_Analysis.ipynb',\n",
       " '06_NLP_Document_Similarity.ipynb',\n",
       " '03_EDA_Pandas_3.ipynb',\n",
       " '.ipynb_checkpoints',\n",
       " '08_NLP_TopicModeling.ipynb',\n",
       " '16_Databases_SQLite.ipynb',\n",
       " '17_Time_Series_Forecast.ipynb',\n",
       " '15_SNA_Graphs_Analysis.ipynb',\n",
       " '11_NLP_multilabel_text_classification.ipynb',\n",
       " '09_NLP_Clustering_TopicModeling.ipynb',\n",
       " '10_NLP_simple text_classification.ipynb',\n",
       " '04_NLP_Regular_Expressions.ipynb']"
      ]
     },
     "execution_count": 17,
     "metadata": {},
     "output_type": "execute_result"
    }
   ],
   "source": [
    "os.listdir()"
   ]
  },
  {
   "cell_type": "code",
   "execution_count": 18,
   "id": "ef17a5a7-4a18-4d6c-b9db-70e2b7c7b271",
   "metadata": {
    "tags": []
   },
   "outputs": [
    {
     "data": {
      "text/html": [
       "<div>\n",
       "<style scoped>\n",
       "    .dataframe tbody tr th:only-of-type {\n",
       "        vertical-align: middle;\n",
       "    }\n",
       "\n",
       "    .dataframe tbody tr th {\n",
       "        vertical-align: top;\n",
       "    }\n",
       "\n",
       "    .dataframe thead th {\n",
       "        text-align: right;\n",
       "    }\n",
       "</style>\n",
       "<table border=\"1\" class=\"dataframe\">\n",
       "  <thead>\n",
       "    <tr style=\"text-align: right;\">\n",
       "      <th></th>\n",
       "      <th>pickup_year</th>\n",
       "      <th>pickup_month</th>\n",
       "      <th>pickup_day</th>\n",
       "      <th>pickup_dayofweek</th>\n",
       "      <th>pickup_time</th>\n",
       "      <th>pickup_location_code</th>\n",
       "      <th>dropoff_location_code</th>\n",
       "      <th>trip_distance</th>\n",
       "      <th>trip_length</th>\n",
       "      <th>fare_amount</th>\n",
       "      <th>fees_amount</th>\n",
       "      <th>tolls_amount</th>\n",
       "      <th>tip_amount</th>\n",
       "      <th>total_amount</th>\n",
       "      <th>payment_type</th>\n",
       "    </tr>\n",
       "  </thead>\n",
       "  <tbody>\n",
       "    <tr>\n",
       "      <th>0</th>\n",
       "      <td>2016</td>\n",
       "      <td>1</td>\n",
       "      <td>1</td>\n",
       "      <td>5</td>\n",
       "      <td>0</td>\n",
       "      <td>2</td>\n",
       "      <td>4</td>\n",
       "      <td>21.00</td>\n",
       "      <td>2037</td>\n",
       "      <td>52.0</td>\n",
       "      <td>0.8</td>\n",
       "      <td>5.54</td>\n",
       "      <td>11.65</td>\n",
       "      <td>69.99</td>\n",
       "      <td>1</td>\n",
       "    </tr>\n",
       "    <tr>\n",
       "      <th>1</th>\n",
       "      <td>2016</td>\n",
       "      <td>1</td>\n",
       "      <td>1</td>\n",
       "      <td>5</td>\n",
       "      <td>0</td>\n",
       "      <td>2</td>\n",
       "      <td>1</td>\n",
       "      <td>16.29</td>\n",
       "      <td>1520</td>\n",
       "      <td>45.0</td>\n",
       "      <td>1.3</td>\n",
       "      <td>0.00</td>\n",
       "      <td>8.00</td>\n",
       "      <td>54.30</td>\n",
       "      <td>1</td>\n",
       "    </tr>\n",
       "    <tr>\n",
       "      <th>2</th>\n",
       "      <td>2016</td>\n",
       "      <td>1</td>\n",
       "      <td>1</td>\n",
       "      <td>5</td>\n",
       "      <td>0</td>\n",
       "      <td>2</td>\n",
       "      <td>6</td>\n",
       "      <td>12.70</td>\n",
       "      <td>1462</td>\n",
       "      <td>36.5</td>\n",
       "      <td>1.3</td>\n",
       "      <td>0.00</td>\n",
       "      <td>0.00</td>\n",
       "      <td>37.80</td>\n",
       "      <td>2</td>\n",
       "    </tr>\n",
       "    <tr>\n",
       "      <th>3</th>\n",
       "      <td>2016</td>\n",
       "      <td>1</td>\n",
       "      <td>1</td>\n",
       "      <td>5</td>\n",
       "      <td>0</td>\n",
       "      <td>2</td>\n",
       "      <td>6</td>\n",
       "      <td>8.70</td>\n",
       "      <td>1210</td>\n",
       "      <td>26.0</td>\n",
       "      <td>1.3</td>\n",
       "      <td>0.00</td>\n",
       "      <td>5.46</td>\n",
       "      <td>32.76</td>\n",
       "      <td>1</td>\n",
       "    </tr>\n",
       "    <tr>\n",
       "      <th>4</th>\n",
       "      <td>2016</td>\n",
       "      <td>1</td>\n",
       "      <td>1</td>\n",
       "      <td>5</td>\n",
       "      <td>0</td>\n",
       "      <td>2</td>\n",
       "      <td>6</td>\n",
       "      <td>5.56</td>\n",
       "      <td>759</td>\n",
       "      <td>17.5</td>\n",
       "      <td>1.3</td>\n",
       "      <td>0.00</td>\n",
       "      <td>0.00</td>\n",
       "      <td>18.80</td>\n",
       "      <td>2</td>\n",
       "    </tr>\n",
       "  </tbody>\n",
       "</table>\n",
       "</div>"
      ],
      "text/plain": [
       "   pickup_year  pickup_month  pickup_day  pickup_dayofweek  pickup_time  \\\n",
       "0         2016             1           1                 5            0   \n",
       "1         2016             1           1                 5            0   \n",
       "2         2016             1           1                 5            0   \n",
       "3         2016             1           1                 5            0   \n",
       "4         2016             1           1                 5            0   \n",
       "\n",
       "   pickup_location_code  dropoff_location_code  trip_distance  trip_length  \\\n",
       "0                     2                      4          21.00         2037   \n",
       "1                     2                      1          16.29         1520   \n",
       "2                     2                      6          12.70         1462   \n",
       "3                     2                      6           8.70         1210   \n",
       "4                     2                      6           5.56          759   \n",
       "\n",
       "   fare_amount  fees_amount  tolls_amount  tip_amount  total_amount  \\\n",
       "0         52.0          0.8          5.54       11.65         69.99   \n",
       "1         45.0          1.3          0.00        8.00         54.30   \n",
       "2         36.5          1.3          0.00        0.00         37.80   \n",
       "3         26.0          1.3          0.00        5.46         32.76   \n",
       "4         17.5          1.3          0.00        0.00         18.80   \n",
       "\n",
       "   payment_type  \n",
       "0             1  \n",
       "1             1  \n",
       "2             2  \n",
       "3             1  \n",
       "4             2  "
      ]
     },
     "execution_count": 18,
     "metadata": {},
     "output_type": "execute_result"
    }
   ],
   "source": [
    "nyc_taxis.head(5)"
   ]
  },
  {
   "cell_type": "code",
   "execution_count": 19,
   "id": "e94aab84-0803-4a3b-afad-c9ec66675bbc",
   "metadata": {
    "tags": []
   },
   "outputs": [
    {
     "data": {
      "text/html": [
       "<div>\n",
       "<style scoped>\n",
       "    .dataframe tbody tr th:only-of-type {\n",
       "        vertical-align: middle;\n",
       "    }\n",
       "\n",
       "    .dataframe tbody tr th {\n",
       "        vertical-align: top;\n",
       "    }\n",
       "\n",
       "    .dataframe thead th {\n",
       "        text-align: right;\n",
       "    }\n",
       "</style>\n",
       "<table border=\"1\" class=\"dataframe\">\n",
       "  <thead>\n",
       "    <tr style=\"text-align: right;\">\n",
       "      <th></th>\n",
       "      <th>pickup_year</th>\n",
       "      <th>pickup_month</th>\n",
       "      <th>pickup_day</th>\n",
       "      <th>pickup_dayofweek</th>\n",
       "      <th>pickup_time</th>\n",
       "      <th>pickup_location_code</th>\n",
       "      <th>dropoff_location_code</th>\n",
       "      <th>trip_distance</th>\n",
       "      <th>trip_length</th>\n",
       "      <th>fare_amount</th>\n",
       "      <th>fees_amount</th>\n",
       "      <th>tolls_amount</th>\n",
       "      <th>tip_amount</th>\n",
       "      <th>total_amount</th>\n",
       "      <th>payment_type</th>\n",
       "    </tr>\n",
       "  </thead>\n",
       "  <tbody>\n",
       "    <tr>\n",
       "      <th>89555</th>\n",
       "      <td>2016</td>\n",
       "      <td>6</td>\n",
       "      <td>30</td>\n",
       "      <td>4</td>\n",
       "      <td>5</td>\n",
       "      <td>3</td>\n",
       "      <td>4</td>\n",
       "      <td>9.50</td>\n",
       "      <td>1989</td>\n",
       "      <td>31.0</td>\n",
       "      <td>1.3</td>\n",
       "      <td>5.54</td>\n",
       "      <td>3.00</td>\n",
       "      <td>40.84</td>\n",
       "      <td>1</td>\n",
       "    </tr>\n",
       "    <tr>\n",
       "      <th>89556</th>\n",
       "      <td>2016</td>\n",
       "      <td>6</td>\n",
       "      <td>30</td>\n",
       "      <td>4</td>\n",
       "      <td>5</td>\n",
       "      <td>2</td>\n",
       "      <td>4</td>\n",
       "      <td>19.80</td>\n",
       "      <td>2368</td>\n",
       "      <td>52.0</td>\n",
       "      <td>0.8</td>\n",
       "      <td>5.54</td>\n",
       "      <td>0.00</td>\n",
       "      <td>58.34</td>\n",
       "      <td>1</td>\n",
       "    </tr>\n",
       "    <tr>\n",
       "      <th>89557</th>\n",
       "      <td>2016</td>\n",
       "      <td>6</td>\n",
       "      <td>30</td>\n",
       "      <td>4</td>\n",
       "      <td>5</td>\n",
       "      <td>2</td>\n",
       "      <td>4</td>\n",
       "      <td>17.48</td>\n",
       "      <td>2822</td>\n",
       "      <td>52.0</td>\n",
       "      <td>0.8</td>\n",
       "      <td>5.54</td>\n",
       "      <td>5.00</td>\n",
       "      <td>63.34</td>\n",
       "      <td>1</td>\n",
       "    </tr>\n",
       "    <tr>\n",
       "      <th>89558</th>\n",
       "      <td>2016</td>\n",
       "      <td>6</td>\n",
       "      <td>30</td>\n",
       "      <td>4</td>\n",
       "      <td>5</td>\n",
       "      <td>2</td>\n",
       "      <td>6</td>\n",
       "      <td>12.76</td>\n",
       "      <td>1083</td>\n",
       "      <td>34.5</td>\n",
       "      <td>1.3</td>\n",
       "      <td>0.00</td>\n",
       "      <td>8.95</td>\n",
       "      <td>44.75</td>\n",
       "      <td>1</td>\n",
       "    </tr>\n",
       "    <tr>\n",
       "      <th>89559</th>\n",
       "      <td>2016</td>\n",
       "      <td>6</td>\n",
       "      <td>30</td>\n",
       "      <td>4</td>\n",
       "      <td>5</td>\n",
       "      <td>2</td>\n",
       "      <td>0</td>\n",
       "      <td>17.54</td>\n",
       "      <td>1711</td>\n",
       "      <td>48.0</td>\n",
       "      <td>1.3</td>\n",
       "      <td>5.54</td>\n",
       "      <td>0.00</td>\n",
       "      <td>54.84</td>\n",
       "      <td>2</td>\n",
       "    </tr>\n",
       "  </tbody>\n",
       "</table>\n",
       "</div>"
      ],
      "text/plain": [
       "       pickup_year  pickup_month  pickup_day  pickup_dayofweek  pickup_time  \\\n",
       "89555         2016             6          30                 4            5   \n",
       "89556         2016             6          30                 4            5   \n",
       "89557         2016             6          30                 4            5   \n",
       "89558         2016             6          30                 4            5   \n",
       "89559         2016             6          30                 4            5   \n",
       "\n",
       "       pickup_location_code  dropoff_location_code  trip_distance  \\\n",
       "89555                     3                      4           9.50   \n",
       "89556                     2                      4          19.80   \n",
       "89557                     2                      4          17.48   \n",
       "89558                     2                      6          12.76   \n",
       "89559                     2                      0          17.54   \n",
       "\n",
       "       trip_length  fare_amount  fees_amount  tolls_amount  tip_amount  \\\n",
       "89555         1989         31.0          1.3          5.54        3.00   \n",
       "89556         2368         52.0          0.8          5.54        0.00   \n",
       "89557         2822         52.0          0.8          5.54        5.00   \n",
       "89558         1083         34.5          1.3          0.00        8.95   \n",
       "89559         1711         48.0          1.3          5.54        0.00   \n",
       "\n",
       "       total_amount  payment_type  \n",
       "89555         40.84             1  \n",
       "89556         58.34             1  \n",
       "89557         63.34             1  \n",
       "89558         44.75             1  \n",
       "89559         54.84             2  "
      ]
     },
     "execution_count": 19,
     "metadata": {},
     "output_type": "execute_result"
    }
   ],
   "source": [
    "nyc_taxis.tail()"
   ]
  },
  {
   "cell_type": "markdown",
   "id": "2e1deb4f-7950-4745-a55e-7c49cbe887a8",
   "metadata": {},
   "source": [
    "expl. fare amount:"
   ]
  },
  {
   "cell_type": "code",
   "execution_count": 20,
   "id": "f9886df5-5709-4b9f-b630-c59a6f20d07c",
   "metadata": {
    "tags": []
   },
   "outputs": [
    {
     "data": {
      "text/plain": [
       "37.0"
      ]
     },
     "execution_count": 20,
     "metadata": {},
     "output_type": "execute_result"
    }
   ],
   "source": [
    "nyc_taxis.fare_amount.median()"
   ]
  },
  {
   "cell_type": "code",
   "execution_count": 21,
   "id": "15b1cd4e-9364-4f47-9889-1ab9d6a1c42f",
   "metadata": {
    "tags": []
   },
   "outputs": [
    {
     "data": {
      "text/html": [
       "<div>\n",
       "<style scoped>\n",
       "    .dataframe tbody tr th:only-of-type {\n",
       "        vertical-align: middle;\n",
       "    }\n",
       "\n",
       "    .dataframe tbody tr th {\n",
       "        vertical-align: top;\n",
       "    }\n",
       "\n",
       "    .dataframe thead th {\n",
       "        text-align: right;\n",
       "    }\n",
       "</style>\n",
       "<table border=\"1\" class=\"dataframe\">\n",
       "  <thead>\n",
       "    <tr style=\"text-align: right;\">\n",
       "      <th></th>\n",
       "      <th>pickup_year</th>\n",
       "      <th>pickup_month</th>\n",
       "      <th>pickup_day</th>\n",
       "      <th>pickup_dayofweek</th>\n",
       "      <th>pickup_time</th>\n",
       "      <th>pickup_location_code</th>\n",
       "      <th>dropoff_location_code</th>\n",
       "      <th>trip_distance</th>\n",
       "      <th>trip_length</th>\n",
       "      <th>fare_amount</th>\n",
       "      <th>fees_amount</th>\n",
       "      <th>tolls_amount</th>\n",
       "      <th>tip_amount</th>\n",
       "      <th>total_amount</th>\n",
       "      <th>payment_type</th>\n",
       "    </tr>\n",
       "  </thead>\n",
       "  <tbody>\n",
       "    <tr>\n",
       "      <th>count</th>\n",
       "      <td>89560.0</td>\n",
       "      <td>89560.000000</td>\n",
       "      <td>89560.000000</td>\n",
       "      <td>89560.000000</td>\n",
       "      <td>89560.000000</td>\n",
       "      <td>89560.000000</td>\n",
       "      <td>89560.000000</td>\n",
       "      <td>89560.000000</td>\n",
       "      <td>89560.000000</td>\n",
       "      <td>89560.000000</td>\n",
       "      <td>89560.000000</td>\n",
       "      <td>89560.000000</td>\n",
       "      <td>89560.000000</td>\n",
       "      <td>89560.000000</td>\n",
       "      <td>89560.000000</td>\n",
       "    </tr>\n",
       "    <tr>\n",
       "      <th>mean</th>\n",
       "      <td>2016.0</td>\n",
       "      <td>3.614471</td>\n",
       "      <td>15.693535</td>\n",
       "      <td>3.841335</td>\n",
       "      <td>3.082671</td>\n",
       "      <td>2.959882</td>\n",
       "      <td>3.379243</td>\n",
       "      <td>12.667426</td>\n",
       "      <td>2235.981108</td>\n",
       "      <td>38.404484</td>\n",
       "      <td>1.209176</td>\n",
       "      <td>3.538310</td>\n",
       "      <td>5.814489</td>\n",
       "      <td>48.966662</td>\n",
       "      <td>1.290442</td>\n",
       "    </tr>\n",
       "    <tr>\n",
       "      <th>std</th>\n",
       "      <td>0.0</td>\n",
       "      <td>1.692354</td>\n",
       "      <td>8.694046</td>\n",
       "      <td>2.001929</td>\n",
       "      <td>1.404460</td>\n",
       "      <td>0.823339</td>\n",
       "      <td>1.382522</td>\n",
       "      <td>5.167848</td>\n",
       "      <td>3238.775577</td>\n",
       "      <td>12.891446</td>\n",
       "      <td>0.945975</td>\n",
       "      <td>4.107658</td>\n",
       "      <td>4.832459</td>\n",
       "      <td>16.429253</td>\n",
       "      <td>0.476341</td>\n",
       "    </tr>\n",
       "    <tr>\n",
       "      <th>min</th>\n",
       "      <td>2016.0</td>\n",
       "      <td>1.000000</td>\n",
       "      <td>1.000000</td>\n",
       "      <td>1.000000</td>\n",
       "      <td>0.000000</td>\n",
       "      <td>0.000000</td>\n",
       "      <td>0.000000</td>\n",
       "      <td>0.000000</td>\n",
       "      <td>1.000000</td>\n",
       "      <td>-52.000000</td>\n",
       "      <td>-1.800000</td>\n",
       "      <td>-5.540000</td>\n",
       "      <td>0.000000</td>\n",
       "      <td>-58.340000</td>\n",
       "      <td>1.000000</td>\n",
       "    </tr>\n",
       "    <tr>\n",
       "      <th>25%</th>\n",
       "      <td>2016.0</td>\n",
       "      <td>2.000000</td>\n",
       "      <td>8.000000</td>\n",
       "      <td>2.000000</td>\n",
       "      <td>2.000000</td>\n",
       "      <td>2.000000</td>\n",
       "      <td>2.000000</td>\n",
       "      <td>9.260000</td>\n",
       "      <td>1394.000000</td>\n",
       "      <td>29.500000</td>\n",
       "      <td>0.800000</td>\n",
       "      <td>0.000000</td>\n",
       "      <td>0.000000</td>\n",
       "      <td>38.840000</td>\n",
       "      <td>1.000000</td>\n",
       "    </tr>\n",
       "    <tr>\n",
       "      <th>50%</th>\n",
       "      <td>2016.0</td>\n",
       "      <td>4.000000</td>\n",
       "      <td>16.000000</td>\n",
       "      <td>4.000000</td>\n",
       "      <td>3.000000</td>\n",
       "      <td>3.000000</td>\n",
       "      <td>4.000000</td>\n",
       "      <td>11.320000</td>\n",
       "      <td>1943.000000</td>\n",
       "      <td>37.000000</td>\n",
       "      <td>0.800000</td>\n",
       "      <td>5.540000</td>\n",
       "      <td>6.470000</td>\n",
       "      <td>48.340000</td>\n",
       "      <td>1.000000</td>\n",
       "    </tr>\n",
       "    <tr>\n",
       "      <th>75%</th>\n",
       "      <td>2016.0</td>\n",
       "      <td>5.000000</td>\n",
       "      <td>23.000000</td>\n",
       "      <td>5.000000</td>\n",
       "      <td>4.000000</td>\n",
       "      <td>4.000000</td>\n",
       "      <td>4.000000</td>\n",
       "      <td>17.220000</td>\n",
       "      <td>2665.000000</td>\n",
       "      <td>52.000000</td>\n",
       "      <td>1.300000</td>\n",
       "      <td>5.540000</td>\n",
       "      <td>9.460000</td>\n",
       "      <td>60.800000</td>\n",
       "      <td>2.000000</td>\n",
       "    </tr>\n",
       "    <tr>\n",
       "      <th>max</th>\n",
       "      <td>2016.0</td>\n",
       "      <td>6.000000</td>\n",
       "      <td>31.000000</td>\n",
       "      <td>7.000000</td>\n",
       "      <td>5.000000</td>\n",
       "      <td>6.000000</td>\n",
       "      <td>7.000000</td>\n",
       "      <td>182.900000</td>\n",
       "      <td>86383.000000</td>\n",
       "      <td>400.000000</td>\n",
       "      <td>6.300000</td>\n",
       "      <td>805.540000</td>\n",
       "      <td>100.000000</td>\n",
       "      <td>834.840000</td>\n",
       "      <td>4.000000</td>\n",
       "    </tr>\n",
       "  </tbody>\n",
       "</table>\n",
       "</div>"
      ],
      "text/plain": [
       "       pickup_year  pickup_month    pickup_day  pickup_dayofweek  \\\n",
       "count      89560.0  89560.000000  89560.000000      89560.000000   \n",
       "mean        2016.0      3.614471     15.693535          3.841335   \n",
       "std            0.0      1.692354      8.694046          2.001929   \n",
       "min         2016.0      1.000000      1.000000          1.000000   \n",
       "25%         2016.0      2.000000      8.000000          2.000000   \n",
       "50%         2016.0      4.000000     16.000000          4.000000   \n",
       "75%         2016.0      5.000000     23.000000          5.000000   \n",
       "max         2016.0      6.000000     31.000000          7.000000   \n",
       "\n",
       "        pickup_time  pickup_location_code  dropoff_location_code  \\\n",
       "count  89560.000000          89560.000000           89560.000000   \n",
       "mean       3.082671              2.959882               3.379243   \n",
       "std        1.404460              0.823339               1.382522   \n",
       "min        0.000000              0.000000               0.000000   \n",
       "25%        2.000000              2.000000               2.000000   \n",
       "50%        3.000000              3.000000               4.000000   \n",
       "75%        4.000000              4.000000               4.000000   \n",
       "max        5.000000              6.000000               7.000000   \n",
       "\n",
       "       trip_distance   trip_length   fare_amount   fees_amount  tolls_amount  \\\n",
       "count   89560.000000  89560.000000  89560.000000  89560.000000  89560.000000   \n",
       "mean       12.667426   2235.981108     38.404484      1.209176      3.538310   \n",
       "std         5.167848   3238.775577     12.891446      0.945975      4.107658   \n",
       "min         0.000000      1.000000    -52.000000     -1.800000     -5.540000   \n",
       "25%         9.260000   1394.000000     29.500000      0.800000      0.000000   \n",
       "50%        11.320000   1943.000000     37.000000      0.800000      5.540000   \n",
       "75%        17.220000   2665.000000     52.000000      1.300000      5.540000   \n",
       "max       182.900000  86383.000000    400.000000      6.300000    805.540000   \n",
       "\n",
       "         tip_amount  total_amount  payment_type  \n",
       "count  89560.000000  89560.000000  89560.000000  \n",
       "mean       5.814489     48.966662      1.290442  \n",
       "std        4.832459     16.429253      0.476341  \n",
       "min        0.000000    -58.340000      1.000000  \n",
       "25%        0.000000     38.840000      1.000000  \n",
       "50%        6.470000     48.340000      1.000000  \n",
       "75%        9.460000     60.800000      2.000000  \n",
       "max      100.000000    834.840000      4.000000  "
      ]
     },
     "execution_count": 21,
     "metadata": {},
     "output_type": "execute_result"
    }
   ],
   "source": [
    "nyc_taxis.describe()"
   ]
  },
  {
   "cell_type": "markdown",
   "id": "1fff5527-93ad-4ff5-aa52-c9e9514b09e3",
   "metadata": {},
   "source": [
    "distribution of fair_amount"
   ]
  },
  {
   "cell_type": "code",
   "execution_count": 26,
   "id": "6298d50d-e2b6-47bb-a154-7da4d6b86c83",
   "metadata": {
    "tags": []
   },
   "outputs": [
    {
     "data": {
      "text/plain": [
       "<Axes: >"
      ]
     },
     "execution_count": 26,
     "metadata": {},
     "output_type": "execute_result"
    },
    {
     "data": {
      "image/png": "[encoded data removed]",
      "text/plain": [
       "<Figure size 640x480 with 1 Axes>"
      ]
     },
     "metadata": {},
     "output_type": "display_data"
    }
   ],
   "source": [
    "nyc_taxis.fare_amount.plot(kind = \"box\")"
   ]
  },
  {
   "cell_type": "code",
   "execution_count": 27,
   "id": "02715c56-dcc1-4103-8f11-2ebc230fa1ce",
   "metadata": {
    "tags": []
   },
   "outputs": [
    {
     "data": {
      "text/plain": [
       "400.0"
      ]
     },
     "execution_count": 27,
     "metadata": {},
     "output_type": "execute_result"
    }
   ],
   "source": [
    "nyc_taxis.fare_amount.max()"
   ]
  },
  {
   "cell_type": "markdown",
   "id": "60e78a40-0b4e-49ce-92e1-4e67e785e7c6",
   "metadata": {},
   "source": [
    "filtering:"
   ]
  },
  {
   "cell_type": "code",
   "execution_count": 29,
   "id": "6398da00-dd4b-4a37-b48d-b47cc85e5702",
   "metadata": {
    "tags": []
   },
   "outputs": [
    {
     "data": {
      "text/html": [
       "<div>\n",
       "<style scoped>\n",
       "    .dataframe tbody tr th:only-of-type {\n",
       "        vertical-align: middle;\n",
       "    }\n",
       "\n",
       "    .dataframe tbody tr th {\n",
       "        vertical-align: top;\n",
       "    }\n",
       "\n",
       "    .dataframe thead th {\n",
       "        text-align: right;\n",
       "    }\n",
       "</style>\n",
       "<table border=\"1\" class=\"dataframe\">\n",
       "  <thead>\n",
       "    <tr style=\"text-align: right;\">\n",
       "      <th></th>\n",
       "      <th>pickup_year</th>\n",
       "      <th>pickup_month</th>\n",
       "      <th>pickup_day</th>\n",
       "      <th>pickup_dayofweek</th>\n",
       "      <th>pickup_time</th>\n",
       "      <th>pickup_location_code</th>\n",
       "      <th>dropoff_location_code</th>\n",
       "      <th>trip_distance</th>\n",
       "      <th>trip_length</th>\n",
       "      <th>fare_amount</th>\n",
       "      <th>fees_amount</th>\n",
       "      <th>tolls_amount</th>\n",
       "      <th>tip_amount</th>\n",
       "      <th>total_amount</th>\n",
       "      <th>payment_type</th>\n",
       "    </tr>\n",
       "  </thead>\n",
       "  <tbody>\n",
       "    <tr>\n",
       "      <th>31877</th>\n",
       "      <td>2016</td>\n",
       "      <td>3</td>\n",
       "      <td>11</td>\n",
       "      <td>5</td>\n",
       "      <td>2</td>\n",
       "      <td>2</td>\n",
       "      <td>6</td>\n",
       "      <td>11.8</td>\n",
       "      <td>17015</td>\n",
       "      <td>400.0</td>\n",
       "      <td>0.3</td>\n",
       "      <td>0.0</td>\n",
       "      <td>0.0</td>\n",
       "      <td>400.3</td>\n",
       "      <td>3</td>\n",
       "    </tr>\n",
       "  </tbody>\n",
       "</table>\n",
       "</div>"
      ],
      "text/plain": [
       "       pickup_year  pickup_month  pickup_day  pickup_dayofweek  pickup_time  \\\n",
       "31877         2016             3          11                 5            2   \n",
       "\n",
       "       pickup_location_code  dropoff_location_code  trip_distance  \\\n",
       "31877                     2                      6           11.8   \n",
       "\n",
       "       trip_length  fare_amount  fees_amount  tolls_amount  tip_amount  \\\n",
       "31877        17015        400.0          0.3           0.0         0.0   \n",
       "\n",
       "       total_amount  payment_type  \n",
       "31877         400.3             3  "
      ]
     },
     "execution_count": 29,
     "metadata": {},
     "output_type": "execute_result"
    }
   ],
   "source": [
    "nyc_taxis[nyc_taxis.fare_amount > 300]"
   ]
  },
  {
   "cell_type": "markdown",
   "id": "cb01c7ff-4b17-4c38-aa22-f8cbf649364e",
   "metadata": {},
   "source": [
    "get rid of outlier: "
   ]
  },
  {
   "cell_type": "code",
   "execution_count": 30,
   "id": "ade1953e-686f-438e-8e22-3a8be0850428",
   "metadata": {
    "tags": []
   },
   "outputs": [],
   "source": [
    "nyc_taxis.drop(31877, axis=0, inplace=True)"
   ]
  },
  {
   "cell_type": "markdown",
   "id": "a77255b3-5811-4061-b741-31be65ec9b12",
   "metadata": {},
   "source": [
    "inplace False would create a view!!"
   ]
  },
  {
   "cell_type": "code",
   "execution_count": 31,
   "id": "351e3798-9171-4658-a0f5-0f4eb02d0cb9",
   "metadata": {
    "tags": []
   },
   "outputs": [
    {
     "data": {
      "text/plain": [
       "<Axes: >"
      ]
     },
     "execution_count": 31,
     "metadata": {},
     "output_type": "execute_result"
    },
    {
     "data": {
      "image/png": "[encoded data removed]",
      "text/plain": [
       "<Figure size 640x480 with 1 Axes>"
      ]
     },
     "metadata": {},
     "output_type": "display_data"
    }
   ],
   "source": [
    "nyc_taxis.fare_amount.plot(kind = \"box\")"
   ]
  },
  {
   "cell_type": "markdown",
   "id": "57ced5c1-0f6c-4c5f-85e0-61cb9b7abfac",
   "metadata": {
    "tags": []
   },
   "source": [
    "g.snsd.catplot - look it up (i think this is a seaborn thingy)"
   ]
  },
  {
   "cell_type": "markdown",
   "id": "5fa0472c-5c42-41de-9a1a-18823fd60ace",
   "metadata": {},
   "source": [
    "for categorical data: .value_counts()"
   ]
  },
  {
   "cell_type": "markdown",
   "id": "014f2358-c1b8-43e0-9b18-b5098c081be8",
   "metadata": {},
   "source": [
    "plot geographical data: plotting with folium: \n",
    "\n",
    "geometry = gpd.points_from_xy(df.lng, df. lat)\n",
    "obviously replace df with actual name and lng and lat with corresponding column names"
   ]
  },
  {
   "cell_type": "markdown",
   "id": "a3912714-c6ef-42c9-8ab4-2c4ba0fd63e4",
   "metadata": {},
   "source": [
    "geo_df = gdp.geoDataFrame(nameofdf, geometry=geometry)\n",
    "\n",
    "geo_df.head()\n",
    "\n",
    "geo_df.plot() = without map in background; \n",
    "import map or create folium map\n",
    "\n",
    "geo_df_list: extract compatible format\n",
    "look at website!!!\n",
    "\n",
    "map = folium.Map(location=[enter parameters for city], titles=\"\", zoom_start=9)\n",
    "    for coordinates in geo_df_list:\n",
    "    map.add_child(folium.Marker(location=coordinates))"
   ]
  },
  {
   "cell_type": "code",
   "execution_count": null,
   "id": "7f991967-d5d8-4e83-8b6c-eceb309e94e9",
   "metadata": {},
   "outputs": [],
   "source": []
  }
 ],
 "metadata": {
  "kernelspec": {
   "display_name": "Python 3 (ipykernel)",
   "language": "python",
   "name": "python3"
  },
  "language_info": {
   "codemirror_mode": {
    "name": "ipython",
    "version": 3
   },
   "file_extension": ".py",
   "mimetype": "text/x-python",
   "name": "python",
   "nbconvert_exporter": "python",
   "pygments_lexer": "ipython3",
   "version": "3.11.5"
  }
 },
 "nbformat": 4,
 "nbformat_minor": 5
}

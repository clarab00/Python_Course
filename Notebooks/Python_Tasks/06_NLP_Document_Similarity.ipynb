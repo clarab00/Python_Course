{
 "cells": [
  {
   "cell_type": "markdown",
   "metadata": {
    "application/vnd.databricks.v1+cell": {
     "cellMetadata": {},
     "inputWidgets": {},
     "nuid": "d5e0f22c-924f-4efc-8374-fb1edb74c2ee",
     "showTitle": false,
     "title": ""
    }
   },
   "source": [
    "### Document Similarity"
   ]
  },
  {
   "cell_type": "code",
   "execution_count": null,
   "metadata": {
    "application/vnd.databricks.v1+cell": {
     "cellMetadata": {},
     "inputWidgets": {},
     "nuid": "34ae6aa6-f4ed-41d1-b628-be5ab57cd37c",
     "showTitle": false,
     "title": ""
    }
   },
   "outputs": [],
   "source": [
    "!pip install -U -q gensim "
   ]
  },
  {
   "cell_type": "code",
   "execution_count": null,
   "metadata": {
    "application/vnd.databricks.v1+cell": {
     "cellMetadata": {},
     "inputWidgets": {},
     "nuid": "95a36d92-33e8-47e0-abd1-eafeb55825f9",
     "showTitle": false,
     "title": ""
    }
   },
   "outputs": [],
   "source": [
    "import re\n",
    "import os\n",
    "import codecs\n",
    "import string\n",
    "\n",
    "import numpy as np\n",
    "import pandas as pd\n",
    "import matplotlib.pyplot as plt\n",
    "import matplotlib as mpl\n",
    "\n",
    "import nltk\n",
    "from nltk.stem.wordnet import WordNetLemmatizer\n",
    "from nltk.tokenize import word_tokenize\n",
    "from nltk.tokenize.casual import casual_tokenize\n",
    "\n",
    "from sklearn import feature_extraction\n",
    "\n",
    "import gensim\n",
    "\n",
    "from IPython.display import display, Image\n",
    "from IPython.core.interactiveshell import InteractiveShell\n",
    "\n",
    "%matplotlib inline"
   ]
  },
  {
   "cell_type": "markdown",
   "metadata": {
    "application/vnd.databricks.v1+cell": {
     "cellMetadata": {},
     "inputWidgets": {},
     "nuid": "fb811c21-0ad0-47e9-b65b-04e1e85091eb",
     "showTitle": false,
     "title": ""
    }
   },
   "source": [
    "Let's create some documents."
   ]
  },
  {
   "cell_type": "code",
   "execution_count": null,
   "metadata": {
    "application/vnd.databricks.v1+cell": {
     "cellMetadata": {},
     "inputWidgets": {},
     "nuid": "d62a9b6e-c07a-40e5-8544-eb51a58780cc",
     "showTitle": false,
     "title": ""
    }
   },
   "outputs": [
    {
     "data": {
      "text/plain": [
       "Number of documents: 19\n"
      ]
     },
     "metadata": {
      "application/vnd.databricks.v1+output": {
       "addedWidgets": {},
       "arguments": {},
       "data": "Number of documents: 19\n",
       "datasetInfos": [],
       "metadata": {},
       "removedWidgets": [],
       "type": "ansi"
      }
     },
     "output_type": "display_data"
    }
   ],
   "source": [
    "raw_documents = [\"to open a bank account.\",\n",
    "                 \"to pay in a cheque\",\n",
    "                 \"to cash a cheque.\",\n",
    "                 \"to transfer money.\",\n",
    "                 \"to go into liquidation.\",\n",
    "                 \"(for a company) to go into administration\",\n",
    "                 \"to be in debt\",\n",
    "                 \"to owe money (to someone)\",\n",
    "                 \"to take out a loan\",\n",
    "                 \"to insure something against fire/theft/accidental damage\",\n",
    "                 \"to pay into a savings account/pension\",\n",
    "                 \"to borrow money from someone\",\n",
    "                 \"to pay by installments\", \n",
    "                 \"to lend money to someone\",\n",
    "                 \"to invest in something/someone\",\n",
    "                 \"to get a return on an investment\",\n",
    "                 \"to change some money\",\n",
    "                 \"to borrow money – to take money from someone that you will pay back later\",\n",
    "                 \"to lend money – to give someone money that they will pay back later\",\n",
    "                ]\n",
    "\n",
    "\n",
    "\n",
    "print(\"Number of documents:\",len(raw_documents))"
   ]
  },
  {
   "cell_type": "markdown",
   "metadata": {
    "application/vnd.databricks.v1+cell": {
     "cellMetadata": {},
     "inputWidgets": {},
     "nuid": "2d0221b6-fdab-4a5b-9fb8-413f733e8169",
     "showTitle": false,
     "title": ""
    }
   },
   "source": [
    "We will use NLTK to tokenize.  \n",
    "A document will now be a list of tokens."
   ]
  },
  {
   "cell_type": "code",
   "execution_count": null,
   "metadata": {
    "application/vnd.databricks.v1+cell": {
     "cellMetadata": {},
     "inputWidgets": {},
     "nuid": "8dd97a8d-c1b3-4379-9231-a5c1680bd030",
     "showTitle": false,
     "title": ""
    }
   },
   "outputs": [
    {
     "data": {
      "text/plain": [
       "[['to', 'open', 'a', 'bank', 'account', '.'], ['to', 'pay', 'in', 'a', 'cheque'], ['to', 'cash', 'a', 'cheque', '.'], ['to', 'transfer', 'money', '.'], ['to', 'go', 'into', 'liquidation', '.'], ['(', 'for', 'a', 'company', ')', 'to', 'go', 'into', 'administration'], ['to', 'be', 'in', 'debt'], ['to', 'owe', 'money', '(', 'to', 'someone', ')'], ['to', 'take', 'out', 'a', 'loan'], ['to', 'insure', 'something', 'against', 'fire', '/', 'theft', '/', 'accidental', 'damage'], ['to', 'pay', 'into', 'a', 'savings', 'account', '/', 'pension'], ['to', 'borrow', 'money', 'from', 'someone'], ['to', 'pay', 'by', 'installments'], ['to', 'lend', 'money', 'to', 'someone'], ['to', 'invest', 'in', 'something', '/', 'someone'], ['to', 'get', 'a', 'return', 'on', 'an', 'investment'], ['to', 'change', 'some', 'money'], ['to', 'borrow', 'money', '–', 'to', 'take', 'money', 'from', 'someone', 'that', 'you', 'will', 'pay', 'back', 'later'], ['to', 'lend', 'money', '–', 'to', 'give', 'someone', 'money', 'that', 'they', 'will', 'pay', 'back', 'later']]\n"
      ]
     },
     "metadata": {
      "application/vnd.databricks.v1+output": {
       "addedWidgets": {},
       "arguments": {},
       "data": "[['to', 'open', 'a', 'bank', 'account', '.'], ['to', 'pay', 'in', 'a', 'cheque'], ['to', 'cash', 'a', 'cheque', '.'], ['to', 'transfer', 'money', '.'], ['to', 'go', 'into', 'liquidation', '.'], ['(', 'for', 'a', 'company', ')', 'to', 'go', 'into', 'administration'], ['to', 'be', 'in', 'debt'], ['to', 'owe', 'money', '(', 'to', 'someone', ')'], ['to', 'take', 'out', 'a', 'loan'], ['to', 'insure', 'something', 'against', 'fire', '/', 'theft', '/', 'accidental', 'damage'], ['to', 'pay', 'into', 'a', 'savings', 'account', '/', 'pension'], ['to', 'borrow', 'money', 'from', 'someone'], ['to', 'pay', 'by', 'installments'], ['to', 'lend', 'money', 'to', 'someone'], ['to', 'invest', 'in', 'something', '/', 'someone'], ['to', 'get', 'a', 'return', 'on', 'an', 'investment'], ['to', 'change', 'some', 'money'], ['to', 'borrow', 'money', '–', 'to', 'take', 'money', 'from', 'someone', 'that', 'you', 'will', 'pay', 'back', 'later'], ['to', 'lend', 'money', '–', 'to', 'give', 'someone', 'money', 'that', 'they', 'will', 'pay', 'back', 'later']]\n",
       "datasetInfos": [],
       "metadata": {},
       "removedWidgets": [],
       "type": "ansi"
      }
     },
     "output_type": "display_data"
    }
   ],
   "source": [
    "gen_docs = [[w.lower() for w in casual_tokenize(text)] for text in raw_documents]\n",
    "\n",
    "print(gen_docs)"
   ]
  },
  {
   "cell_type": "markdown",
   "metadata": {
    "application/vnd.databricks.v1+cell": {
     "cellMetadata": {},
     "inputWidgets": {},
     "nuid": "5a2f558f-b524-4610-9137-a4ed2583fa12",
     "showTitle": false,
     "title": ""
    }
   },
   "source": [
    "We will create a dictionary from a list of documents.  \n",
    "A dictionary maps every word to a number."
   ]
  },
  {
   "cell_type": "code",
   "execution_count": null,
   "metadata": {
    "application/vnd.databricks.v1+cell": {
     "cellMetadata": {},
     "inputWidgets": {},
     "nuid": "d41efdec-fcc3-486d-9658-6d334c35524d",
     "showTitle": false,
     "title": ""
    }
   },
   "outputs": [
    {
     "data": {
      "text/plain": [
       "to\n",
       "10\n",
       "Number of words in dictionary: 58\n"
      ]
     },
     "metadata": {
      "application/vnd.databricks.v1+output": {
       "addedWidgets": {},
       "arguments": {},
       "data": "to\n10\nNumber of words in dictionary: 58\n",
       "datasetInfos": [],
       "metadata": {},
       "removedWidgets": [],
       "type": "ansi"
      }
     },
     "output_type": "display_data"
    }
   ],
   "source": [
    "dictionary = gensim.corpora.Dictionary(gen_docs)\n",
    "print(dictionary[5])\n",
    "print(dictionary.token2id['money'])\n",
    "print(\"Number of words in dictionary:\",len(dictionary))"
   ]
  },
  {
   "cell_type": "code",
   "execution_count": null,
   "metadata": {
    "application/vnd.databricks.v1+cell": {
     "cellMetadata": {},
     "inputWidgets": {},
     "nuid": "5004473e-715e-4202-8a3b-9014d418e61c",
     "showTitle": false,
     "title": ""
    }
   },
   "outputs": [
    {
     "data": {
      "text/plain": [
       "0 .\n",
       "1 a\n",
       "2 account\n",
       "3 bank\n",
       "4 open\n",
       "5 to\n",
       "6 cheque\n",
       "7 in\n",
       "8 pay\n",
       "9 cash\n",
       "10 money\n",
       "11 transfer\n",
       "12 go\n",
       "13 into\n",
       "14 liquidation\n",
       "15 (\n",
       "16 )\n",
       "17 administration\n",
       "18 company\n",
       "19 for\n",
       "20 be\n",
       "21 debt\n",
       "22 owe\n",
       "23 someone\n",
       "24 loan\n",
       "25 out\n",
       "26 take\n",
       "27 /\n",
       "28 accidental\n",
       "29 against\n",
       "30 damage\n",
       "31 fire\n",
       "32 insure\n",
       "33 something\n",
       "34 theft\n",
       "35 pension\n",
       "36 savings\n",
       "37 borrow\n",
       "38 from\n",
       "39 by\n",
       "40 installments\n",
       "41 lend\n",
       "42 invest\n",
       "43 an\n",
       "44 get\n",
       "45 investment\n",
       "46 on\n",
       "47 return\n",
       "48 change\n",
       "49 some\n",
       "50 back\n",
       "51 later\n",
       "52 that\n",
       "53 will\n",
       "54 you\n",
       "55 –\n",
       "56 give\n",
       "57 they\n"
      ]
     },
     "metadata": {
      "application/vnd.databricks.v1+output": {
       "addedWidgets": {},
       "arguments": {},
       "data": "0 .\n1 a\n2 account\n3 bank\n4 open\n5 to\n6 cheque\n7 in\n8 pay\n9 cash\n10 money\n11 transfer\n12 go\n13 into\n14 liquidation\n15 (\n16 )\n17 administration\n18 company\n19 for\n20 be\n21 debt\n22 owe\n23 someone\n24 loan\n25 out\n26 take\n27 /\n28 accidental\n29 against\n30 damage\n31 fire\n32 insure\n33 something\n34 theft\n35 pension\n36 savings\n37 borrow\n38 from\n39 by\n40 installments\n41 lend\n42 invest\n43 an\n44 get\n45 investment\n46 on\n47 return\n48 change\n49 some\n50 back\n51 later\n52 that\n53 will\n54 you\n55 –\n56 give\n57 they\n",
       "datasetInfos": [],
       "metadata": {},
       "removedWidgets": [],
       "type": "ansi"
      }
     },
     "output_type": "display_data"
    }
   ],
   "source": [
    "for i in range(len(dictionary)):\n",
    "    print(i, dictionary[i])"
   ]
  },
  {
   "cell_type": "markdown",
   "metadata": {
    "application/vnd.databricks.v1+cell": {
     "cellMetadata": {},
     "inputWidgets": {},
     "nuid": "89c3f3d3-183d-4b78-b7ea-8dcb490342c5",
     "showTitle": false,
     "title": ""
    }
   },
   "source": [
    "Now we will create a corpus. A corpus is a list of bags of words.  \n",
    "A bag-of-words representation for a document just lists the number of times each word occurs in the document."
   ]
  },
  {
   "cell_type": "code",
   "execution_count": null,
   "metadata": {
    "application/vnd.databricks.v1+cell": {
     "cellMetadata": {},
     "inputWidgets": {},
     "nuid": "4ac4630d-b40e-4c2e-b384-0196bcac50bc",
     "showTitle": false,
     "title": ""
    }
   },
   "outputs": [
    {
     "data": {
      "text/plain": [
       "[(0, 1), (1, 1), (2, 1), (3, 1), (4, 1), (5, 1)]\n",
       "[(1, 1), (5, 1), (6, 1), (7, 1), (8, 1)]\n",
       "[(0, 1), (1, 1), (5, 1), (6, 1), (9, 1)]\n",
       "[(0, 1), (5, 1), (10, 1), (11, 1)]\n",
       "[(0, 1), (5, 1), (12, 1), (13, 1), (14, 1)]\n",
       "[(1, 1), (5, 1), (12, 1), (13, 1), (15, 1), (16, 1), (17, 1), (18, 1), (19, 1)]\n",
       "[(5, 1), (7, 1), (20, 1), (21, 1)]\n",
       "[(5, 2), (10, 1), (15, 1), (16, 1), (22, 1), (23, 1)]\n",
       "[(1, 1), (5, 1), (24, 1), (25, 1), (26, 1)]\n",
       "[(5, 1), (27, 2), (28, 1), (29, 1), (30, 1), (31, 1), (32, 1), (33, 1), (34, 1)]\n",
       "[(1, 1), (2, 1), (5, 1), (8, 1), (13, 1), (27, 1), (35, 1), (36, 1)]\n",
       "[(5, 1), (10, 1), (23, 1), (37, 1), (38, 1)]\n",
       "[(5, 1), (8, 1), (39, 1), (40, 1)]\n",
       "[(5, 2), (10, 1), (23, 1), (41, 1)]\n",
       "[(5, 1), (7, 1), (23, 1), (27, 1), (33, 1), (42, 1)]\n",
       "[(1, 1), (5, 1), (43, 1), (44, 1), (45, 1), (46, 1), (47, 1)]\n",
       "[(5, 1), (10, 1), (48, 1), (49, 1)]\n",
       "[(5, 2), (8, 1), (10, 2), (23, 1), (26, 1), (37, 1), (38, 1), (50, 1), (51, 1), (52, 1), (53, 1), (54, 1), (55, 1)]\n",
       "[(5, 2), (8, 1), (10, 2), (23, 1), (41, 1), (50, 1), (51, 1), (52, 1), (53, 1), (55, 1), (56, 1), (57, 1)]\n"
      ]
     },
     "metadata": {
      "application/vnd.databricks.v1+output": {
       "addedWidgets": {},
       "arguments": {},
       "data": "[(0, 1), (1, 1), (2, 1), (3, 1), (4, 1), (5, 1)]\n[(1, 1), (5, 1), (6, 1), (7, 1), (8, 1)]\n[(0, 1), (1, 1), (5, 1), (6, 1), (9, 1)]\n[(0, 1), (5, 1), (10, 1), (11, 1)]\n[(0, 1), (5, 1), (12, 1), (13, 1), (14, 1)]\n[(1, 1), (5, 1), (12, 1), (13, 1), (15, 1), (16, 1), (17, 1), (18, 1), (19, 1)]\n[(5, 1), (7, 1), (20, 1), (21, 1)]\n[(5, 2), (10, 1), (15, 1), (16, 1), (22, 1), (23, 1)]\n[(1, 1), (5, 1), (24, 1), (25, 1), (26, 1)]\n[(5, 1), (27, 2), (28, 1), (29, 1), (30, 1), (31, 1), (32, 1), (33, 1), (34, 1)]\n[(1, 1), (2, 1), (5, 1), (8, 1), (13, 1), (27, 1), (35, 1), (36, 1)]\n[(5, 1), (10, 1), (23, 1), (37, 1), (38, 1)]\n[(5, 1), (8, 1), (39, 1), (40, 1)]\n[(5, 2), (10, 1), (23, 1), (41, 1)]\n[(5, 1), (7, 1), (23, 1), (27, 1), (33, 1), (42, 1)]\n[(1, 1), (5, 1), (43, 1), (44, 1), (45, 1), (46, 1), (47, 1)]\n[(5, 1), (10, 1), (48, 1), (49, 1)]\n[(5, 2), (8, 1), (10, 2), (23, 1), (26, 1), (37, 1), (38, 1), (50, 1), (51, 1), (52, 1), (53, 1), (54, 1), (55, 1)]\n[(5, 2), (8, 1), (10, 2), (23, 1), (41, 1), (50, 1), (51, 1), (52, 1), (53, 1), (55, 1), (56, 1), (57, 1)]\n",
       "datasetInfos": [],
       "metadata": {},
       "removedWidgets": [],
       "type": "ansi"
      }
     },
     "output_type": "display_data"
    }
   ],
   "source": [
    "corpus = [dictionary.doc2bow(gen_doc) for gen_doc in gen_docs]\n",
    "for d in corpus:\n",
    "    print(d)"
   ]
  },
  {
   "cell_type": "markdown",
   "metadata": {
    "application/vnd.databricks.v1+cell": {
     "cellMetadata": {},
     "inputWidgets": {},
     "nuid": "cae33360-be21-45fd-9a9c-51ad0723724f",
     "showTitle": false,
     "title": ""
    }
   },
   "source": [
    "Now we create a tf-idf model from the corpus."
   ]
  },
  {
   "cell_type": "code",
   "execution_count": null,
   "metadata": {
    "application/vnd.databricks.v1+cell": {
     "cellMetadata": {},
     "inputWidgets": {},
     "nuid": "f9329bba-8ab5-4ddf-81d1-0f4a260d2892",
     "showTitle": false,
     "title": ""
    }
   },
   "outputs": [
    {
     "data": {
      "text/plain": [
       "TfidfModel<num_docs=19, num_nnz=121>\n"
      ]
     },
     "metadata": {
      "application/vnd.databricks.v1+output": {
       "addedWidgets": {},
       "arguments": {},
       "data": "TfidfModel<num_docs=19, num_nnz=121>\n",
       "datasetInfos": [],
       "metadata": {},
       "removedWidgets": [],
       "type": "ansi"
      }
     },
     "output_type": "display_data"
    }
   ],
   "source": [
    "tf_idf = gensim.models.TfidfModel(corpus)\n",
    "print(tf_idf)"
   ]
  },
  {
   "cell_type": "code",
   "execution_count": null,
   "metadata": {
    "application/vnd.databricks.v1+cell": {
     "cellMetadata": {},
     "inputWidgets": {},
     "nuid": "9db31ad9-cd79-4faa-97d5-691292177b6a",
     "showTitle": false,
     "title": ""
    }
   },
   "outputs": [
    {
     "data": {
      "text/plain": [
       "[(0, 0.3065656160153156), (1, 0.19646097182933306), (2, 0.4429426184684284), (3, 0.5793196209215412), (4, 0.5793196209215412)]\n",
       "[(1, 0.2976418942353754), (6, 0.6710660075175084), (7, 0.5502047973206687), (8, 0.39793768024127935)]\n",
       "[(0, 0.3761077648158145), (1, 0.24102669421538023), (6, 0.5434208843743974), (9, 0.7107340039329801)]\n",
       "[(0, 0.44803515490559687), (10, 0.2871209860079739), (11, 0.8466557974540344)]\n",
       "[(0, 0.35219232005009604), (12, 0.5088665535135118), (13, 0.41721800210818183), (14, 0.6655407869769275)]\n",
       "[(1, 0.14783978813511728), (12, 0.3333208741697226), (13, 0.2732886809357804), (15, 0.3333208741697226), (16, 0.3333208741697226), (17, 0.4359465863477392), (18, 0.4359465863477392), (19, 0.4359465863477392)]\n",
       "[(7, 0.40524560474105453), (20, 0.6464425727928418), (21, 0.6464425727928418)]\n",
       "[(10, 0.21721483485220752), (15, 0.48973445882780997), (16, 0.48973445882780997), (22, 0.6405181375893392), (23, 0.2507479822700011)]\n",
       "[(1, 0.2063991903606659), (24, 0.6086252124525078), (25, 0.6086252124525078), (26, 0.4653494125415236)]\n",
       "[(27, 0.4390008020425453), (28, 0.35014421453360434), (29, 0.35014421453360434), (30, 0.35014421453360434), (31, 0.35014421453360434), (32, 0.35014421453360434), (33, 0.2677171454686335), (34, 0.35014421453360434)]\n",
       "[(1, 0.176513326578371), (2, 0.3979684837206066), (8, 0.2359926645767193), (13, 0.3262930419252347), (27, 0.3262930419252347), (35, 0.5204984607823989), (36, 0.5204984607823989)]\n",
       "[(10, 0.282852793806932), (23, 0.32651898464843765), (37, 0.6377223728628966), (38, 0.6377223728628966)]\n",
       "[(8, 0.3052943079739727), (39, 0.6733481215235894), (40, 0.6733481215235894)]\n",
       "[(10, 0.36721429105014114), (23, 0.42390402388576104), (41, 0.8279245394249422)]\n",
       "[(7, 0.3946015139079347), (23, 0.24642025278632435), (27, 0.3946015139079347), (33, 0.4812819949736466), (42, 0.6294632560952569)]\n",
       "[(1, 0.1499460486868235), (43, 0.44215747929515087), (44, 0.44215747929515087), (45, 0.44215747929515087), (46, 0.44215747929515087), (47, 0.44215747929515087)]\n",
       "[(10, 0.23318594371382845), (48, 0.6876133781618459), (49, 0.6876133781618459)]\n",
       "[(8, 0.17789679254989751), (10, 0.26611975161962304), (23, 0.1536013661456792), (26, 0.29999795509248295), (37, 0.29999795509248295), (38, 0.29999795509248295), (50, 0.29999795509248295), (51, 0.29999795509248295), (52, 0.29999795509248295), (53, 0.29999795509248295), (54, 0.39236391888039174), (55, 0.29999795509248295)]\n",
       "[(8, 0.18025999870175988), (10, 0.2696549240369851), (23, 0.15564182841712865), (41, 0.303983170356113), (50, 0.303983170356113), (51, 0.303983170356113), (52, 0.303983170356113), (53, 0.303983170356113), (55, 0.303983170356113), (56, 0.3975761366701357), (57, 0.3975761366701357)]\n"
      ]
     },
     "metadata": {
      "application/vnd.databricks.v1+output": {
       "addedWidgets": {},
       "arguments": {},
       "data": "[(0, 0.3065656160153156), (1, 0.19646097182933306), (2, 0.4429426184684284), (3, 0.5793196209215412), (4, 0.5793196209215412)]\n[(1, 0.2976418942353754), (6, 0.6710660075175084), (7, 0.5502047973206687), (8, 0.39793768024127935)]\n[(0, 0.3761077648158145), (1, 0.24102669421538023), (6, 0.5434208843743974), (9, 0.7107340039329801)]\n[(0, 0.44803515490559687), (10, 0.2871209860079739), (11, 0.8466557974540344)]\n[(0, 0.35219232005009604), (12, 0.5088665535135118), (13, 0.41721800210818183), (14, 0.6655407869769275)]\n[(1, 0.14783978813511728), (12, 0.3333208741697226), (13, 0.2732886809357804), (15, 0.3333208741697226), (16, 0.3333208741697226), (17, 0.4359465863477392), (18, 0.4359465863477392), (19, 0.4359465863477392)]\n[(7, 0.40524560474105453), (20, 0.6464425727928418), (21, 0.6464425727928418)]\n[(10, 0.21721483485220752), (15, 0.48973445882780997), (16, 0.48973445882780997), (22, 0.6405181375893392), (23, 0.2507479822700011)]\n[(1, 0.2063991903606659), (24, 0.6086252124525078), (25, 0.6086252124525078), (26, 0.4653494125415236)]\n[(27, 0.4390008020425453), (28, 0.35014421453360434), (29, 0.35014421453360434), (30, 0.35014421453360434), (31, 0.35014421453360434), (32, 0.35014421453360434), (33, 0.2677171454686335), (34, 0.35014421453360434)]\n[(1, 0.176513326578371), (2, 0.3979684837206066), (8, 0.2359926645767193), (13, 0.3262930419252347), (27, 0.3262930419252347), (35, 0.5204984607823989), (36, 0.5204984607823989)]\n[(10, 0.282852793806932), (23, 0.32651898464843765), (37, 0.6377223728628966), (38, 0.6377223728628966)]\n[(8, 0.3052943079739727), (39, 0.6733481215235894), (40, 0.6733481215235894)]\n[(10, 0.36721429105014114), (23, 0.42390402388576104), (41, 0.8279245394249422)]\n[(7, 0.3946015139079347), (23, 0.24642025278632435), (27, 0.3946015139079347), (33, 0.4812819949736466), (42, 0.6294632560952569)]\n[(1, 0.1499460486868235), (43, 0.44215747929515087), (44, 0.44215747929515087), (45, 0.44215747929515087), (46, 0.44215747929515087), (47, 0.44215747929515087)]\n[(10, 0.23318594371382845), (48, 0.6876133781618459), (49, 0.6876133781618459)]\n[(8, 0.17789679254989751), (10, 0.26611975161962304), (23, 0.1536013661456792), (26, 0.29999795509248295), (37, 0.29999795509248295), (38, 0.29999795509248295), (50, 0.29999795509248295), (51, 0.29999795509248295), (52, 0.29999795509248295), (53, 0.29999795509248295), (54, 0.39236391888039174), (55, 0.29999795509248295)]\n[(8, 0.18025999870175988), (10, 0.2696549240369851), (23, 0.15564182841712865), (41, 0.303983170356113), (50, 0.303983170356113), (51, 0.303983170356113), (52, 0.303983170356113), (53, 0.303983170356113), (55, 0.303983170356113), (56, 0.3975761366701357), (57, 0.3975761366701357)]\n",
       "datasetInfos": [],
       "metadata": {},
       "removedWidgets": [],
       "type": "ansi"
      }
     },
     "output_type": "display_data"
    }
   ],
   "source": [
    "for d in tf_idf[corpus]:\n",
    "    print(d)"
   ]
  },
  {
   "cell_type": "code",
   "execution_count": null,
   "metadata": {
    "application/vnd.databricks.v1+cell": {
     "cellMetadata": {},
     "inputWidgets": {},
     "nuid": "5d17bbb9-2d83-4ea8-a48d-f01da7b7f4cc",
     "showTitle": false,
     "title": ""
    }
   },
   "outputs": [
    {
     "data": {
      "text/plain": [
       "<class 'gensim.similarities.docsim.Similarity'>\n",
       "Similarity<19 documents in 0 shards stored under /tmp/>\n"
      ]
     },
     "metadata": {
      "application/vnd.databricks.v1+output": {
       "addedWidgets": {},
       "arguments": {},
       "data": "<class 'gensim.similarities.docsim.Similarity'>\nSimilarity<19 documents in 0 shards stored under /tmp/>\n",
       "datasetInfos": [],
       "metadata": {},
       "removedWidgets": [],
       "type": "ansi"
      }
     },
     "output_type": "display_data"
    }
   ],
   "source": [
    "sims = gensim.similarities.Similarity(\"/tmp/\",\n",
    "                                      tf_idf[corpus],\n",
    "                                      num_features=len(dictionary))\n",
    "print(type(sims))\n",
    "print(sims)"
   ]
  },
  {
   "cell_type": "markdown",
   "metadata": {
    "application/vnd.databricks.v1+cell": {
     "cellMetadata": {},
     "inputWidgets": {},
     "nuid": "65e2f691-048f-444a-a27a-9d134734f3e2",
     "showTitle": false,
     "title": ""
    }
   },
   "source": [
    "Now create a query document and convert it to tf-idf."
   ]
  },
  {
   "cell_type": "code",
   "execution_count": null,
   "metadata": {
    "application/vnd.databricks.v1+cell": {
     "cellMetadata": {},
     "inputWidgets": {},
     "nuid": "fe731de2-e5bb-4527-aadc-8476a9f17067",
     "showTitle": false,
     "title": ""
    }
   },
   "outputs": [
    {
     "data": {
      "text/plain": [
       "['i', '’', 'd', 'like', 'to', 'open', 'a', 'savings', 'account']\n"
      ]
     },
     "metadata": {
      "application/vnd.databricks.v1+output": {
       "addedWidgets": {},
       "arguments": {},
       "data": "['i', '’', 'd', 'like', 'to', 'open', 'a', 'savings', 'account']\n",
       "datasetInfos": [],
       "metadata": {},
       "removedWidgets": [],
       "type": "ansi"
      }
     },
     "output_type": "display_data"
    }
   ],
   "source": [
    "query_doc = [w.lower() for w in casual_tokenize(\"I’d like to open a savings account\")]\n",
    "print(query_doc)"
   ]
  },
  {
   "cell_type": "code",
   "execution_count": null,
   "metadata": {
    "application/vnd.databricks.v1+cell": {
     "cellMetadata": {},
     "inputWidgets": {},
     "nuid": "e010d7d8-5b53-410a-bc0e-e3762537f5ca",
     "showTitle": false,
     "title": ""
    }
   },
   "outputs": [
    {
     "data": {
      "text/plain": [
       "[(1, 1), (2, 1), (4, 1), (5, 1), (36, 1)]\n"
      ]
     },
     "metadata": {
      "application/vnd.databricks.v1+output": {
       "addedWidgets": {},
       "arguments": {},
       "data": "[(1, 1), (2, 1), (4, 1), (5, 1), (36, 1)]\n",
       "datasetInfos": [],
       "metadata": {},
       "removedWidgets": [],
       "type": "ansi"
      }
     },
     "output_type": "display_data"
    }
   ],
   "source": [
    "query_doc_bow = dictionary.doc2bow(query_doc)\n",
    "print(query_doc_bow)"
   ]
  },
  {
   "cell_type": "markdown",
   "metadata": {
    "application/vnd.databricks.v1+cell": {
     "cellMetadata": {},
     "inputWidgets": {},
     "nuid": "5885ebc2-d70a-4ddd-ba09-0afcc0a4b6af",
     "showTitle": false,
     "title": ""
    }
   },
   "source": [
    "We show an array of document similarities to query."
   ]
  },
  {
   "cell_type": "code",
   "execution_count": null,
   "metadata": {
    "application/vnd.databricks.v1+cell": {
     "cellMetadata": {},
     "inputWidgets": {},
     "nuid": "a4a871aa-a8da-4d2e-bbf4-2c39b3bd0a14",
     "showTitle": false,
     "title": ""
    }
   },
   "outputs": [
    {
     "data": {
      "text/plain": [
       "[(1, 0.2063991903606659), (2, 0.4653494125415236), (4, 0.6086252124525078), (36, 0.6086252124525078)]\n"
      ]
     },
     "metadata": {
      "application/vnd.databricks.v1+output": {
       "addedWidgets": {},
       "arguments": {},
       "data": "[(1, 0.2063991903606659), (2, 0.4653494125415236), (4, 0.6086252124525078), (36, 0.6086252124525078)]\n",
       "datasetInfos": [],
       "metadata": {},
       "removedWidgets": [],
       "type": "ansi"
      }
     },
     "output_type": "display_data"
    }
   ],
   "source": [
    "query_doc_tf_idf = tf_idf[query_doc_bow]\n",
    "print(query_doc_tf_idf)"
   ]
  },
  {
   "cell_type": "code",
   "execution_count": null,
   "metadata": {
    "application/vnd.databricks.v1+cell": {
     "cellMetadata": {},
     "inputWidgets": {},
     "nuid": "dc9020cb-fac0-459b-a9d5-ffc1338901f5",
     "showTitle": false,
     "title": ""
    }
   },
   "outputs": [
    {
     "data": {
      "text/plain": [
       "Out[17]: array([0.599261  , 0.06143305, 0.04974772, 0.        , 0.        ,\n",
       "       0.03051401, 0.        , 0.        , 0.04260062, 0.        ,\n",
       "       0.5384151 , 0.        , 0.        , 0.        , 0.        ,\n",
       "       0.03094874, 0.        , 0.        , 0.        ], dtype=float32)"
      ]
     },
     "metadata": {
      "application/vnd.databricks.v1+output": {
       "addedWidgets": {},
       "arguments": {},
       "data": "Out[17]: array([0.599261  , 0.06143305, 0.04974772, 0.        , 0.        ,\n       0.03051401, 0.        , 0.        , 0.04260062, 0.        ,\n       0.5384151 , 0.        , 0.        , 0.        , 0.        ,\n       0.03094874, 0.        , 0.        , 0.        ], dtype=float32)",
       "datasetInfos": [],
       "metadata": {},
       "removedWidgets": [],
       "type": "ansi"
      }
     },
     "output_type": "display_data"
    }
   ],
   "source": [
    "sims[query_doc_tf_idf]"
   ]
  },
  {
   "cell_type": "markdown",
   "metadata": {
    "application/vnd.databricks.v1+cell": {
     "cellMetadata": {},
     "inputWidgets": {},
     "nuid": "c4e6d640-0469-4834-9eb0-4310a0452783",
     "showTitle": false,
     "title": ""
    }
   },
   "source": [
    "Printing the most similar Document"
   ]
  },
  {
   "cell_type": "code",
   "execution_count": null,
   "metadata": {
    "application/vnd.databricks.v1+cell": {
     "cellMetadata": {},
     "inputWidgets": {},
     "nuid": "81b9df52-0ca9-44fb-bd36-06391de072c2",
     "showTitle": false,
     "title": ""
    }
   },
   "outputs": [
    {
     "data": {
      "text/plain": [
       "to open a bank account.\n"
      ]
     },
     "metadata": {
      "application/vnd.databricks.v1+output": {
       "addedWidgets": {},
       "arguments": {},
       "data": "to open a bank account.\n",
       "datasetInfos": [],
       "metadata": {},
       "removedWidgets": [],
       "type": "ansi"
      }
     },
     "output_type": "display_data"
    }
   ],
   "source": [
    "print(raw_documents[np.argmax(sims[query_doc_tf_idf])])"
   ]
  }
 ],
 "metadata": {
  "application/vnd.databricks.v1+notebook": {
   "dashboards": [],
   "language": "python",
   "notebookMetadata": {
    "pythonIndentUnit": 4
   },
   "notebookName": "01_NLP_Document_Similarity",
   "notebookOrigID": 866167628390895,
   "widgets": {}
  },
  "kernelspec": {
   "display_name": "Python 3 (ipykernel)",
   "language": "python",
   "name": "python3"
  },
  "language_info": {
   "codemirror_mode": {
    "name": "ipython",
    "version": 3
   },
   "file_extension": ".py",
   "mimetype": "text/x-python",
   "name": "python",
   "nbconvert_exporter": "python",
   "pygments_lexer": "ipython3",
   "version": "3.11.5"
  }
 },
 "nbformat": 4,
 "nbformat_minor": 4
}
